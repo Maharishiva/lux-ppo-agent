{
  "cells": [
    {
      "cell_type": "markdown",
      "metadata": {},
      "source": [
        "# Lux AI Season 3 - PPO Agent Training\n",
        "\n",
        "This notebook trains a PPO agent for the Lux AI Season 3 competition using GPU acceleration on Google Colab."
      ]
    },
    {
      "cell_type": "markdown",
      "metadata": {},
      "source": [
        "## Setup Environment\n",
        "\n",
        "First, let's check if we have a GPU available:"
      ]
    },
    {
      "cell_type": "code",
      "execution_count": null,
      "metadata": {},
      "source": [
        "!nvidia-smi"
      ],
      "outputs": []
    },
    {
      "cell_type": "markdown",
      "metadata": {},
      "source": [
        "Now let's clone both the Lux environment and our PPO agent code:"
      ]
    },
    {
      "cell_type": "code",
      "execution_count": null,
      "metadata": {},
      "source": [
        "# Clone the Lux AI environment\n",
        "!git clone https://github.com/Lux-AI-Challenge/Lux-Design-S3.git\n",
        "!cd Lux-Design-S3 && pip install -e .\n",
        "\n",
        "# Clone our PPO agent code (replace with your GitHub username and repo)\n",
        "!git clone https://github.com/YOUR_USERNAME/lux-ppo-agent.git\n",
        "!cd lux-ppo-agent && pip install -r requirements.txt"
      ],
      "outputs": []
    },
    {
      "cell_type": "markdown",
      "metadata": {},
      "source": [
        "## Configure JAX for GPU\n",
        "\n",
        "Let's configure JAX to use the GPU:"
      ]
    },
    {
      "cell_type": "code",
      "execution_count": null,
      "metadata": {},
      "source": [
        "import os\n",
        "os.environ['XLA_PYTHON_CLIENT_PREALLOCATE'] = 'false'\n",
        "\n",
        "# Check JAX device\n",
        "import jax\n",
        "print(\"JAX devices:\", jax.devices())"
      ],
      "outputs": []
    },
    {
      "cell_type": "markdown",
      "metadata": {},
      "source": [
        "## Start Training\n",
        "\n",
        "Now let's run the training script:"
      ]
    },
    {
      "cell_type": "code",
      "execution_count": null,
      "metadata": {},
      "source": [
        "# Copy our agent files to the working directory\n",
        "!cp lux-ppo-agent/*.py .\n",
        "\n",
        "# Run training for 100 iterations\n",
        "!python train_simple_ppo.py --iterations 100"
      ],
      "outputs": []
    },
    {
      "cell_type": "markdown",
      "metadata": {},
      "source": [
        "## Create Submission\n",
        "\n",
        "After training, let's create a submission:"
      ]
    },
    {
      "cell_type": "code",
      "execution_count": null,
      "metadata": {},
      "source": [
        "!python create_submission.py --checkpoint checkpoints/checkpoint_final --output-dir submission"
      ],
      "outputs": []
    },
    {
      "cell_type": "markdown",
      "metadata": {},
      "source": [
        "## Download Results\n",
        "\n",
        "Now let's download the submission and trained model:"
      ]
    },
    {
      "cell_type": "code",
      "execution_count": null,
      "metadata": {},
      "source": [
        "from google.colab import files\n",
        "\n",
        "# Create a zip of our submission\n",
        "!zip -r submission.zip submission/\n",
        "\n",
        "# Create a zip of our checkpoints\n",
        "!zip -r checkpoints.zip checkpoints/\n",
        "\n",
        "# Download the files\n",
        "files.download('submission.zip')\n",
        "files.download('checkpoints.zip')"
      ],
      "outputs": []
    }
  ],
  "metadata": {
    "accelerator": "GPU",
    "colab": {
      "provenance": []
    },
    "kernelspec": {
      "display_name": "Python 3",
      "name": "python3"
    },
    "language_info": {
      "name": "python"
    }
  },
  "nbformat": 4,
  "nbformat_minor": 0
}